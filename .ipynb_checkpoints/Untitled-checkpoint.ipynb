{
 "cells": [
  {
   "cell_type": "code",
   "execution_count": null,
   "metadata": {},
   "outputs": [],
   "source": [
    "import numpy as np\n",
    "import cv2\n",
    "import matplotlib.pyplot as plt\n",
    "import matplotlib.image as mpimg\n",
    "import pickle\n",
    "import glob\n",
    "import os\n",
    "import al_consts\n",
    "from al_helper import AlHelper\n",
    "from al_calibration import AlCalibration\n",
    "from al_filter import AlFilter\n",
    "from al_adv_lane import AlAdvLane\n",
    "%matplotlib inline"
   ]
  },
  {
   "cell_type": "code",
   "execution_count": null,
   "metadata": {},
   "outputs": [],
   "source": [
    "al_helper = AlHelper()\n",
    "al_filter = AlFilter()\n",
    "al_adv_lane= AlAdvLane()\n",
    "calibration = AlCalibration(9, 6, cal_images=al_consts.CALIBRATION_IMAGES, test_images=al_consts.TEST_IMAGES)\n",
    "mtx, dist = calibration.calibrate_camera()\n"
   ]
  },
  {
   "cell_type": "code",
   "execution_count": null,
   "metadata": {},
   "outputs": [],
   "source": [
    "\n",
    "\n",
    "\n",
    "####################################################################\n",
    "def load_image(cal_img):\n",
    "    return mpimg.imread(cal_img)\n",
    "####################################################################\n",
    "def perpectiveList(cal_img):\n",
    "    name = os.path.basename(cal_img)\n",
    "    img = load_image(cal_img)\n",
    "    undist = calibration.undistort(img)\n",
    "    persp = calibration.perspective_transform(undist)\n",
    "    return persp[0], img, undist,name\n",
    "def perpective(cal_img):\n",
    "    return perpectiveList(cal_img)[0]\n",
    "####################################################################\n",
    "\n",
    "def undistortWithImage(cal_img ):\n",
    "    name = os.path.basename(cal_img)\n",
    "    img = load_image(cal_img)\n",
    "    undist = calibration.undistort(img)\n",
    "    al_helper.display2(img, \" original\", undist, \" undistort\", title=name)\n",
    "    # mpimg.savefig('output_images/undistort_calibration.png')\n",
    "    print(\"\")\n",
    "    return img, undist\n",
    "\n",
    "def perpectiveWithImage(cal_img ):\n",
    "    name = os.path.basename(cal_img)\n",
    "    img = load_image(cal_img)\n",
    "    undist = calibration.undistort(img)\n",
    "    persp = calibration.perspective_transform(undist)\n",
    "    al_helper.display2(undist, \" undistort\", persp[0], \" perspective_transform\", title=name)\n",
    "    print(\"\")\n",
    "    return img, undist, persp\n",
    "\n",
    "def chessboardCornersWithImage(cal_img ):\n",
    "    name = os.path.basename(cal_img)\n",
    "    img = load_image(cal_img)\n",
    "    undist = calibration.undistort(img)\n",
    "    img_chkb = calibration.draw(load_image(cal_img))\n",
    "    undist_chkb = calibration.draw(undist)\n",
    "    al_helper.display2(img_chkb, \" original ChessboardCorners \", undist_chkb, \" undistort ChessboardCorners\",\n",
    "                       title=name)\n",
    "    print(\"\")\n",
    "    return img, undist,img_chkb, undist_chkb\n",
    "\n",
    "####################################################################\n",
    "\n",
    "def undistorteds(images ):\n",
    "    for cal_img in images:\n",
    "        undistortWithImage(cal_img)\n",
    "        print(\"\")\n",
    "\n",
    "def perpectives(images ):\n",
    "    for cal_img in images:\n",
    "        perpectiveWithImage(cal_img)\n",
    "        print(\"\")\n",
    "\n",
    "def chessboardCorners(images ):\n",
    "    for cal_img in images:\n",
    "        chessboardCornersWithImage(cal_img)\n",
    "        print(\"\")\n",
    "\n",
    "####################################################################\n",
    "def draw_RGB_comparison(cal_img):\n",
    "    name = os.path.basename(cal_img)\n",
    "    img = load_image(cal_img)\n",
    "    undist = calibration.undistort(img)\n",
    "    img_perp = calibration.perspective_transform(undist)\n",
    "    #draw_RGB_comparison\n",
    "    img_RGB = img_perp[0]\n",
    "    img_R = img_RGB[:, :, 0]\n",
    "    img_G = img_RGB[:, :, 1]\n",
    "    img_B = img_RGB[:, :, 2]\n",
    "    al_helper.display2(img, 'Original', undist, 'undist ', 14, 7 , title= name + \" draw_RGB_comparision\"  )\n",
    "    al_helper.display2(img_RGB, 'Original RGB perspective', img_R,  'RGB R-Channel', 14, 7 , title= name + \" perpectve: draw_RGB_comparision\"  )\n",
    "    al_helper.display2(img_G, 'RGB G-Channel', img_B,  'RGB B-Channel', 14, 7,  title= name + \" perpectve: draw_RGB_comparision\" )\n",
    "\n",
    "def draw_HSV_comparison(cal_img):\n",
    "    name = os.path.basename(cal_img)\n",
    "    img = load_image(cal_img)\n",
    "    undist = calibration.undistort(img)\n",
    "    img_perp = calibration.perspective_transform(undist)\n",
    "    #draw_RGB_comparison\n",
    "    img_HSV =  cv2.cvtColor(img_perp[0], cv2.COLOR_RGB2HSV)\n",
    "    img_H = img_HSV[:, :, 0]\n",
    "    img_S = img_HSV[:, :, 1]\n",
    "    img_V = img_HSV[:, :, 2]\n",
    "    al_helper.display2(img, 'Original HSV image', undist, 'HSV undist ', 14, 7 , title= name + \" draw_HSV_comparision\"  )\n",
    "    al_helper.display2(img_HSV, 'Original HSV perspective', img_H,  'HSV H-Channel', 14, 7 , title= name + \" perpectve: draw_HSV_comparision\"  )\n",
    "    al_helper.display2(img_S, 'HSV S-Channel', img_V,  'HSV V-Channel', 14, 7,  title= name + \" perpectve: draw_HSV_comparision\" )\n",
    "\n",
    "def draw_RGB2Lab_comparison(cal_img):\n",
    "    name = os.path.basename(cal_img)\n",
    "    img = load_image(cal_img)\n",
    "    undist = calibration.undistort(img)\n",
    "    img_perp = calibration.perspective_transform(undist)\n",
    "    #draw_RGB2Lab_comparison\n",
    "    img_RGB =  cv2.cvtColor(img_perp[0], cv2.COLOR_RGB2Lab)\n",
    "    img_R = img_RGB[:, :, 0]\n",
    "    img_G = img_RGB[:, :, 1]\n",
    "    img_B = img_RGB[:, :, 2]\n",
    "    al_helper.display2(img, 'Original', undist, 'undist ', 14, 7 , title= name + \" draw_RGB2Lab_comparision\"  )\n",
    "    al_helper.display2(img_RGB, 'Original RGB2Lab perspective', img_R,  'RGB2Lab R-Channel', 14, 7 , title= name + \" perpectve: draw_RGB2Lab_comparision\"  )\n",
    "    al_helper.display2(img_G, 'RGB2Lab G-Channel', img_B,  'RGB2Lab B-Channel', 14, 7,  title= name + \" perpectve: draw_RGB2Lab_comparision\" )\n",
    "\n",
    "\n",
    "def draw_RGB2HLS_comparison(cal_img):\n",
    "    name = os.path.basename(cal_img)\n",
    "    img = load_image(cal_img)\n",
    "    undist = calibration.undistort(img)\n",
    "    img_perp = calibration.perspective_transform(undist)\n",
    "    #draw_RGB2Lab_comparison\n",
    "    img_RGB =  cv2.cvtColor(img_perp[0], cv2.COLOR_RGB2HLS)\n",
    "    img_R = img_RGB[:, :, 0]\n",
    "    img_G = img_RGB[:, :, 1]\n",
    "    img_B = img_RGB[:, :, 2]\n",
    "    al_helper.display2(img, 'Original', undist, 'undist ', 14, 7 , title= name + \" draw_RGB2HLS_comparision\"  )\n",
    "    al_helper.display2(img_RGB, 'Original RGB2HLS perspective', img_R,  'RGB2HLS R-Channel', 14, 7 , title= name + \" perpectve: draw_RGB2HLS_comparision\"  )\n",
    "    al_helper.display2(img_G, 'RGB2HLS G-Channel', img_B,  'RGB2HLS B-Channel', 14, 7,  title= name + \" perpectve: draw_RGB2HLS_comparision\" )\n"
   ]
  },
  {
   "cell_type": "code",
   "execution_count": null,
   "metadata": {},
   "outputs": [],
   "source": [
    "\n",
    "####################################################################\n",
    "def draw_color_channel_comparisons(cal_img):\n",
    "\n",
    "    name = os.path.basename(cal_img)\n",
    "    gray = cv2.cvtColor(load_image(cal_img), cv2.COLOR_BGR2GRAY)\n",
    "    img = load_image(cal_img)\n",
    "    undist = calibration.undistort(img)\n",
    "    img_perp_ret = calibration.perspective_transform(undist)\n",
    "\n",
    "    #base\n",
    "    images = {}\n",
    "    images['original image'] =  load_image(cal_img)\n",
    "    images['gray'] = gray\n",
    "    images['un-distorted image']=undist\n",
    "    images['perspective image'] = img_perp_ret[0]\n",
    "\n",
    "    #img RGB comparison\n",
    "    img_perp_RGB=perpectiveList(cal_img)\n",
    "    img_RGB = img_perp_RGB[0]\n",
    "    img_RGB_R = img_RGB[:, :, 0]\n",
    "    img_RGB_G = img_RGB[:, :, 1]\n",
    "    img_RGB_B = img_RGB[:, :, 2]\n",
    "    images['RGB perspective']=img_RGB\n",
    "    images['RGB R-Channel perspective'] = img_RGB_R\n",
    "    images['RGB G-Channel perspective'] = img_RGB_G\n",
    "    images['RGB B-Channel perspective'] = img_RGB_B\n",
    "\n",
    "    #img RGB2HLS comparison\n",
    "    img_perp_RGB2HLS=perpectiveList(cal_img)\n",
    "    img_RGB2HLS = cv2.cvtColor(img_perp_RGB2HLS[0], cv2.COLOR_RGB2HLS)\n",
    "    img_RGB2HLS_H = img_RGB2HLS[:, :, 0]\n",
    "    img_RGB2HLS_L = img_RGB2HLS[:, :, 1]\n",
    "    img_RGB2HLS_S = img_RGB2HLS[:, :, 2]\n",
    "    images['RGB2HLS perspective']=img_RGB2HLS\n",
    "    images['RGB2HLS H-Channel perspective'] = img_RGB2HLS_H\n",
    "    images['RGB2HLS L-Channel perspective'] = img_RGB2HLS_L\n",
    "    images['RGB2HLS S-Channel perspective'] = img_RGB2HLS_S\n",
    "\n",
    "    #img RGB2Lab comparison\n",
    "    img_perp_RGB2Lab=perpectiveList(cal_img)\n",
    "    img_RGB2Lab = cv2.cvtColor(img_perp_RGB2Lab[0], cv2.COLOR_RGB2Lab)\n",
    "    img_RGB2Lab_R = img_RGB2Lab[:, :, 0]\n",
    "    img_RGB2Lab_G = img_RGB2Lab[:, :, 1]\n",
    "    img_RGB2Lab_B = img_RGB2Lab[:, :, 2]\n",
    "    images['RGB2Lab perspective']=img_RGB2Lab\n",
    "    images['RGB2Lab R-Channel perspective'] = img_RGB2Lab_R\n",
    "    images['RGB2Lab G-Channel perspective'] = img_RGB2Lab_G\n",
    "    images['RGB2Lab B-Channel perspective'] = img_RGB2Lab_B\n",
    "\n",
    "    #img RGB2HLS comparison\n",
    "    img_perp_RGB2HLS=perpectiveList(cal_img)\n",
    "    img_RGB2HLS = cv2.cvtColor(img_perp_RGB2HLS[0], cv2.COLOR_RGB2HLS)\n",
    "    img_RGB2HLS_H = img_RGB2HLS[:, :, 0]\n",
    "    img_RGB2HLS_L = img_RGB2HLS[:, :, 1]\n",
    "    img_RGB2HLS_S = img_RGB2HLS[:, :, 2]\n",
    "    images['RGB2HLS perspective']=img_RGB2HLS\n",
    "    images['RGB2HLS H-Channel perspective'] = img_RGB2HLS_H\n",
    "    images['RGB2HLS L-Channel perspective'] = img_RGB2HLS_L\n",
    "    images['RGB2HLS S-Channel perspective'] = img_RGB2HLS_S\n",
    "\n",
    "    al_helper.display(images, size=7, cols=2,  title= name  ) #, cols=1,  title= name  )\n",
    "\n",
    "\n",
    "\n",
    "####################################################################\n",
    "test_images=al_consts.TEST_IMAGES"
   ]
  },
  {
   "cell_type": "code",
   "execution_count": null,
   "metadata": {
    "scrolled": false
   },
   "outputs": [],
   "source": [
    "\n",
    "# undistorteds(al_consts.CALIBRATION_IMAGES)\n",
    "# perpectives(al_consts.TEST_IMAGES)\n",
    "# chessboardCorners(al_consts.CALIBRATION_IMAGES)\n",
    "\n",
    "# [\n",
    "# 'test_images/test1.jpg', 'test_images/test6.jpg', 'test_images/straight_lines2.jpg',\n",
    "# 'test_images/straight_lines1.jpg', 'test_images/test5.jpg', 'test_images/test3.jpg',\n",
    "# 'test_images/test4.jpg', 'test_images/test2.jpg'\n",
    "# ]\n",
    "\n",
    "# print( al_consts.TEST_IMAGES)\n",
    "\n",
    "\n",
    "# draw_RGB_comparison(test_images[0])\n",
    "# draw_HSV_comparison(test_images[1])\n",
    "# draw_RGB2Lab_comparison(test_images[2])\n",
    "# draw_RGB2HLS_comparison(test_images[3])\n",
    "# draw_HSV_comparison(test_images[4])\n",
    "\n",
    "\n",
    "# draw_color_channel_comparisons(test_images[0])\n",
    "\n",
    "\n",
    "# for cal_img in al_consts.TEST_IMAGES:\n",
    "#     img = load_image(cal_img)\n",
    "#     name = os.path.basename(cal_img)\n",
    "#     undist = calibration.undistort(img)\n",
    "#     persp = calibration.perspective_transform(img)\n",
    "#     al_helper.display2(undist,  \" undistort\", persp[0],  \" perspective_transform\", title= name )\n",
    "#     print(\"\") \n",
    "# print(\"\")"
   ]
  },
  {
   "cell_type": "code",
   "execution_count": null,
   "metadata": {
    "scrolled": false
   },
   "outputs": [],
   "source": [
    "# undistorteds(al_consts.CALIBRATION_IMAGES)"
   ]
  },
  {
   "cell_type": "code",
   "execution_count": null,
   "metadata": {
    "scrolled": false
   },
   "outputs": [],
   "source": [
    "# chessboardCorners(al_consts.CALIBRATION_IMAGES)"
   ]
  },
  {
   "cell_type": "code",
   "execution_count": null,
   "metadata": {
    "scrolled": false
   },
   "outputs": [],
   "source": [
    "# perpectives(al_consts.TEST_IMAGES)"
   ]
  },
  {
   "cell_type": "code",
   "execution_count": null,
   "metadata": {
    "scrolled": false
   },
   "outputs": [],
   "source": [
    "# draw_color_channel_comparisons(test_images[0])"
   ]
  },
  {
   "cell_type": "code",
   "execution_count": null,
   "metadata": {},
   "outputs": [],
   "source": [
    "#################################################################### \n",
    "def draw_filter_and_gradient_comparisons(cal_img, debug=False):\n",
    "    name = os.path.basename(cal_img) \n",
    "    img = load_image(cal_img)\n",
    "    img_zero, bin_img_thresh_sobel_mag, bin_img_sobel_abs_x, bin_img_thresh_sobel_dir, binary_thresh_rgb_b = al_filter.filter_pipeline_debug(img,calibration)\n",
    "    \n",
    "    preview, warped, M, Minv = calibration.perspective_transform_with_poi(img_zero, img)\n",
    "    #base\n",
    "    non_gray = {}\n",
    "    images = {}\n",
    "    images['original image'] = img # load_image(cal_img)\n",
    "    images['flltered'] = img_zero\n",
    "#     images['original preview'] =  preview\n",
    "#     images['warped'] = warped\n",
    "    if debug:\n",
    "        images['bin_img_thresh_sobel_mag']=bin_img_thresh_sobel_mag \n",
    "        images['bin_img_sobel_abs_x'] = bin_img_sobel_abs_x\n",
    "        images['bin_img_thresh_sobel_dir'] = bin_img_thresh_sobel_dir\n",
    "        images['binary_thresh_rgb_b'] = binary_thresh_rgb_b  \n",
    "\n",
    "    al_helper.display(images,non_gray, size=7, cols=2,  title= name  ) #, cols=1,  title= name  )\n",
    "    \n",
    "#################################################################### \n",
    "def draw_perspective_comparisons(cal_img, debug=False):\n",
    "    name = os.path.basename(cal_img) \n",
    "    img = load_image(cal_img)\n",
    "    img_zero, bin_img_thresh_sobel_mag, bin_img_sobel_abs_x, bin_img_thresh_sobel_dir, binary_thresh_rgb_b = al_filter.filter_pipeline_debug(img,calibration)\n",
    "    \n",
    "    preview, warped, M, Minv = calibration.perspective_transform_with_poi(img_zero, img)\n",
    "    #base\n",
    "    non_gray = {}\n",
    "    images = {}\n",
    "#     images['original image'] = img \n",
    "    images['original preview'] =  preview\n",
    "    images['warped'] = warped \n",
    "    al_helper.display(images,non_gray, size=7, cols=2,  title= name  ) \n",
    "#################################################################### "
   ]
  },
  {
   "cell_type": "code",
   "execution_count": null,
   "metadata": {
    "scrolled": false
   },
   "outputs": [],
   "source": [
    "# draw_filter_and_gradient_comparisons(test_images[1], debug=True)"
   ]
  },
  {
   "cell_type": "code",
   "execution_count": null,
   "metadata": {},
   "outputs": [],
   "source": [
    "def draw_filter_and_gradients():\n",
    "    for cal_img in test_images: \n",
    "        draw_filter_and_gradient_comparisons(cal_img, debug=False)"
   ]
  },
  {
   "cell_type": "code",
   "execution_count": null,
   "metadata": {
    "scrolled": false
   },
   "outputs": [],
   "source": [
    "# draw_filter_and_gradients()"
   ]
  },
  {
   "cell_type": "code",
   "execution_count": null,
   "metadata": {},
   "outputs": [],
   "source": [
    "def draw_perspectives():\n",
    "    for cal_img in test_images: \n",
    "        draw_perspective_comparisons(cal_img, debug=False)"
   ]
  },
  {
   "cell_type": "code",
   "execution_count": null,
   "metadata": {
    "scrolled": false
   },
   "outputs": [],
   "source": [
    "# draw_perspectives()"
   ]
  },
  {
   "cell_type": "code",
   "execution_count": null,
   "metadata": {},
   "outputs": [],
   "source": [
    "def draw_rect(cal_img, debug=False):\n",
    "    name = os.path.basename(cal_img) \n",
    "    img_original = load_image(cal_img)\n",
    "    img = al_filter.filter_pipeline( img_original, calibration)\n",
    "    left_fit, right_fit, left_lane_inds, right_lane_inds, rectangle_data, histogram, img_windows_1, img_windows_4, img_histogram = al_adv_lane.window_slide_and_draw_rect(img)\n",
    "    #base\n",
    "    non_gray = {}\n",
    "    images = {}\n",
    "    images['original image'] = img_original # load_image(cal_img)\n",
    "    images['filtered image'] = img # load_image(cal_img)\n",
    "    images['img_windows_1'] = img_windows_1\n",
    "    images['img_windows_4'] = img_windows_4  \n",
    "    images['histogram'] =  img_histogram   \n",
    "    \n",
    "    al_helper.display(images,non_gray, size=7, cols=2,  title= name  ) #, cols=1,  title= name  )\n",
    "    #if debug: \n",
    "    #     histogram = np.sum(img[img.shape[0] // 2:, :], axis=0)\n",
    "    #     plt.figure(figsize=(7, 7)) \n",
    "    #     plt.plot(histogram)\n",
    "    #     plt.title(\"histogram \" + name)\n",
    "    #     plt.show()\n",
    "    \n",
    "    \n",
    "    "
   ]
  },
  {
   "cell_type": "code",
   "execution_count": null,
   "metadata": {
    "scrolled": false
   },
   "outputs": [],
   "source": [
    "draw_rect(test_images[1], debug=True)"
   ]
  },
  {
   "cell_type": "code",
   "execution_count": null,
   "metadata": {},
   "outputs": [],
   "source": [
    "def draw_perspectives():\n",
    "    for cal_img in test_images: \n",
    "        draw_rect(cal_img, debug=False)"
   ]
  },
  {
   "cell_type": "code",
   "execution_count": null,
   "metadata": {
    "scrolled": false
   },
   "outputs": [],
   "source": [
    "# draw_perspectives()"
   ]
  },
  {
   "cell_type": "code",
   "execution_count": null,
   "metadata": {},
   "outputs": [],
   "source": []
  }
 ],
 "metadata": {
  "kernelspec": {
   "display_name": "Python 3",
   "language": "python",
   "name": "python3"
  },
  "language_info": {
   "codemirror_mode": {
    "name": "ipython",
    "version": 3
   },
   "file_extension": ".py",
   "mimetype": "text/x-python",
   "name": "python",
   "nbconvert_exporter": "python",
   "pygments_lexer": "ipython3",
   "version": "3.6.5"
  }
 },
 "nbformat": 4,
 "nbformat_minor": 2
}
